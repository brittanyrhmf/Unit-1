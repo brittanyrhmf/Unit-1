{
  "nbformat": 4,
  "nbformat_minor": 0,
  "metadata": {
    "colab": {
      "name": "Coding",
      "provenance": [],
      "authorship_tag": "ABX9TyOBUrm6XL1tEesANl07tJmN",
      "include_colab_link": true
    },
    "kernelspec": {
      "name": "python3",
      "display_name": "Python 3"
    },
    "language_info": {
      "name": "python"
    }
  },
  "cells": [
    {
      "cell_type": "markdown",
      "metadata": {
        "id": "view-in-github",
        "colab_type": "text"
      },
      "source": [
        "<a href=\"https://colab.research.google.com/github/brittanyrhmf/Unit-1/blob/main/Coding.ipynb\" target=\"_parent\"><img src=\"https://colab.research.google.com/assets/colab-badge.svg\" alt=\"Open In Colab\"/></a>"
      ]
    },
    {
      "cell_type": "code",
      "metadata": {
        "id": "p0MDUorQK08U"
      },
      "source": [
        ""
      ],
      "execution_count": null,
      "outputs": []
    },
    {
      "cell_type": "markdown",
      "metadata": {
        "id": "54GUmbrnK76d"
      },
      "source": [
        "Write a program that calculates the value of $$y = 2 * (x+3) - 3$$"
      ]
    },
    {
      "cell_type": "code",
      "metadata": {
        "id": "7AucRYTnK_OR"
      },
      "source": [
        "# Step 1: get the input from the user\n",
        "# Step 2: convert the input which is string to number\n",
        "# Step 3: assign the input to variable x\n",
        "x = int( input (\"Please enter the value for x\"))\n",
        "\n",
        "# Step 4: write the equation for y\n",
        "y = 2 * (x + 3) - 3\n",
        "# Step 5: Show the result \n",
        "print (\"The total is\" , y)\n"
      ],
      "execution_count": null,
      "outputs": []
    },
    {
      "cell_type": "markdown",
      "metadata": {
        "id": "4gv261ZxNgYs"
      },
      "source": [
        "Write a program that asks the user for his name and grade and outputs the user's email address at UWC ISAK: \n",
        "Input: name: John Doe\n",
        "grade: 10"
      ]
    },
    {
      "cell_type": "code",
      "metadata": {
        "id": "vwXKr8-YN46X"
      },
      "source": [
        "1 # Step 1 : ask the user for first name and then last name, and grade\n",
        "first_name = input(\"Please enter your first name: \")\n",
        "grade = int(input(\"Please enter your grade [10, 11, 12]: \"))\n",
        "last_name = (input(\"Please enter your last name: \"))\n",
        "\n",
        "# Step 2:\n",
        "# pattern recognition\n",
        "# 2024 =>10. you can get this by 2034-10\n",
        "# 2023=>11. you can get this by 2034-11\n",
        "# 2024=>12. you can get this by 2034-12\n",
        "year = 2034 - grade\n",
        "\n",
        "# Step 3: show results\n",
        "print(f\"your email address is , {year}.{first_name}.{last_name}@uwcisak.jp\")"
      ],
      "execution_count": null,
      "outputs": []
    },
    {
      "cell_type": "markdown",
      "metadata": {
        "id": "_rhlWZCXQpjz"
      },
      "source": [
        "Write a program that converts a temperature from Fareinheit to Celcius \n"
      ]
    },
    {
      "cell_type": "code",
      "metadata": {
        "id": "nKTZbeieQzC6",
        "colab": {
          "base_uri": "https://localhost:8080/"
        },
        "outputId": "3a0279bc-7fbb-4691-9d56-4e7dcc524c82"
      },
      "source": [
        "# Step 1: ask the user to input a temperature in Fareinheit\n",
        "#Step 2: write the formula to convert Fareinheit to Celcius\n",
        "Fahrenheit = int ( input (\"Please enter a temperature (F)\")) \n",
        "Celsius = int ((Fahrenheit-32)*5)/9  \n",
        "\n",
        "# Step 3 : Show the result \n",
        "print(Celsius)"
      ],
      "execution_count": 74,
      "outputs": [
        {
          "output_type": "stream",
          "text": [
            "Please enter a temperature (F)12\n",
            "-11.11111111111111\n"
          ],
          "name": "stdout"
        }
      ]
    }
  ]
}