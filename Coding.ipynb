{
  "nbformat": 4,
  "nbformat_minor": 0,
  "metadata": {
    "colab": {
      "name": "Coding",
      "provenance": [],
      "authorship_tag": "ABX9TyO6Pb+YsTqd3o3LEWIBe6Gs",
      "include_colab_link": true
    },
    "kernelspec": {
      "name": "python3",
      "display_name": "Python 3"
    },
    "language_info": {
      "name": "python"
    }
  },
  "cells": [
    {
      "cell_type": "markdown",
      "metadata": {
        "id": "view-in-github",
        "colab_type": "text"
      },
      "source": [
        "<a href=\"https://colab.research.google.com/github/brittanyrhmf/Unit-1/blob/main/Coding.ipynb\" target=\"_parent\"><img src=\"https://colab.research.google.com/assets/colab-badge.svg\" alt=\"Open In Colab\"/></a>"
      ]
    },
    {
      "cell_type": "code",
      "metadata": {
        "id": "p0MDUorQK08U"
      },
      "source": [
        ""
      ],
      "execution_count": null,
      "outputs": []
    },
    {
      "cell_type": "markdown",
      "metadata": {
        "id": "54GUmbrnK76d"
      },
      "source": [
        "Write a program that calculates the value of $$y = 2 * (x+3) - 3$$"
      ]
    },
    {
      "cell_type": "code",
      "metadata": {
        "colab": {
          "base_uri": "https://localhost:8080/"
        },
        "id": "7AucRYTnK_OR",
        "outputId": "b30361d3-c068-43a6-f4e9-9ebbbf43ce13"
      },
      "source": [
        "# Step 1: get the input from the user\n",
        "# Step 2: convert the input which is string to number\n",
        "# Step 3: assign the input to variable x\n",
        "x = int( input (\"Please enter the value for x\"))\n",
        "\n",
        "# Step 4: write the equation for y\n",
        "y = 2 * (x + 3) - 3\n",
        "# Step 5: Show the result \n",
        "print (\"The total is\" , y)\n"
      ],
      "execution_count": 1,
      "outputs": [
        {
          "output_type": "stream",
          "text": [
            "Please enter the value for x18\n",
            "The total is 39\n"
          ],
          "name": "stdout"
        }
      ]
    },
    {
      "cell_type": "markdown",
      "metadata": {
        "id": "4gv261ZxNgYs"
      },
      "source": [
        "Write a program that asks the user for his name and grade and outputs the user's email address at UWC ISAK: \n",
        "Input: name: John Doe\n",
        "grade: 10"
      ]
    },
    {
      "cell_type": "code",
      "metadata": {
        "id": "vwXKr8-YN46X"
      },
      "source": [
        "1 # Step 1 : ask the user for first name and then last name, and grade\n",
        "2 first_name + input (\"Please enter your first name: \")\n",
        "3 second_name + input (\"Please enter your grade [10, 11, 12]:\" )\n",
        "4 grade = int(input (\"Please enter your last name: \"))\n",
        "5\n",
        "6 \n",
        "\n"
      ],
      "execution_count": null,
      "outputs": []
    },
    {
      "cell_type": "markdown",
      "metadata": {
        "id": "_rhlWZCXQpjz"
      },
      "source": [
        "Write a program that converts a temperature from Fareinheit to Celcius \n"
      ]
    },
    {
      "cell_type": "code",
      "metadata": {
        "colab": {
          "base_uri": "https://localhost:8080/",
          "height": 130
        },
        "id": "nKTZbeieQzC6",
        "outputId": "d7e36f24-fba8-4b52-b9d5-e106c76efebf"
      },
      "source": [
        "# Step 1: ask the user to input a temperature in Fareinheit\n",
        "#Step 2: write the formula to convert Fareinheit to Celcius\n",
        "F = int( input (\"Please enter a temperature (F)\")) \n",
        "( F - 32 ) = C\n",
        "\n",
        "# Step 3 : Show the result \n",
        "Print (\" Celcius: \" , C)"
      ],
      "execution_count": 1,
      "outputs": [
        {
          "output_type": "error",
          "ename": "SyntaxError",
          "evalue": "ignored",
          "traceback": [
            "\u001b[0;36m  File \u001b[0;32m\"<ipython-input-1-faef829f84ab>\"\u001b[0;36m, line \u001b[0;32m4\u001b[0m\n\u001b[0;31m    ( F - 32 ) = C\u001b[0m\n\u001b[0m                  ^\u001b[0m\n\u001b[0;31mSyntaxError\u001b[0m\u001b[0;31m:\u001b[0m can't assign to operator\n"
          ]
        }
      ]
    }
  ]
}